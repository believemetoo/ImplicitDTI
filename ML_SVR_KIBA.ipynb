{
 "cells": [
  {
   "cell_type": "code",
   "execution_count": 1,
   "metadata": {},
   "outputs": [],
   "source": [
    "import warnings\n",
    "warnings.filterwarnings(\"ignore\")"
   ]
  },
  {
   "cell_type": "code",
   "execution_count": 2,
   "metadata": {},
   "outputs": [
    {
     "name": "stdout",
     "output_type": "stream",
     "text": [
      "/home/gdp/data\n"
     ]
    }
   ],
   "source": [
    "import numpy as np\n",
    "import pandas as pd\n",
    "import json\n",
    "import os \n",
    "print(os.path.abspath('.'))"
   ]
  },
  {
   "cell_type": "code",
   "execution_count": 3,
   "metadata": {},
   "outputs": [],
   "source": [
    "from sklearn import metrics\n",
    "from sklearn.metrics import mean_squared_error\n",
    "from sklearn.ensemble import RandomForestRegressor\n",
    "from sklearn.tree import DecisionTreeRegressor\n",
    "from sklearn.linear_model import LinearRegression\n",
    "from sklearn import svm\n",
    "from sklearn import neighbors\n",
    "from sklearn.model_selection import GridSearchCV\n",
    "from sklearn.metrics import roc_auc_score, precision_score, recall_score\n",
    "from sklearn.metrics import classification_report\n",
    "from sklearn.metrics import confusion_matrix\n",
    "from sklearn.model_selection import train_test_split\n",
    "from lifelines.utils import concordance_index\n",
    "from scipy.stats import pearsonr\n",
    "import pickle\n",
    "from skopt import BayesSearchCV\n",
    "from skopt.space import Real, Categorical, Integer\n",
    "\n",
    "from cuml.svm import SVR"
   ]
  },
  {
   "cell_type": "code",
   "execution_count": 4,
   "metadata": {},
   "outputs": [],
   "source": [
    "x_train_df = pd.read_csv('x_train_df.csv',index_col=0) \n",
    "y_train = pd.read_csv('y_train.csv',index_col=0)"
   ]
  },
  {
   "cell_type": "code",
   "execution_count": 5,
   "metadata": {},
   "outputs": [
    {
     "name": "stdout",
     "output_type": "stream",
     "text": [
      "0.05498760840912775\n",
      "0.9438738529636963\n",
      "0.9615136599123948\n"
     ]
    }
   ],
   "source": [
    "reg = SVR(kernel='rbf', gamma=0.01, C=100)\n",
    "reg.fit(x_train_df, y_train)\n",
    "y_pred_train = reg.predict(x_train_df)\n",
    "\n",
    "y_train=y_train['Label'].astype(float)\n",
    "PC = pearsonr(y_train, y_pred_train)[0]\n",
    "MSE = mean_squared_error(y_train, y_pred_train)\n",
    "CI = concordance_index(y_train, y_pred_train)\n",
    "\n",
    "print(MSE)\n",
    "print(CI)\n",
    "print(PC)"
   ]
  },
  {
   "cell_type": "code",
   "execution_count": 6,
   "metadata": {},
   "outputs": [],
   "source": [
    "np.save('y_pred_SVR_RDKIT_CON_KIBA.npy', y_pred_train)"
   ]
  },
  {
   "cell_type": "code",
   "execution_count": null,
   "metadata": {},
   "outputs": [],
   "source": [
    "## svc model\n",
    "svr = SVR(kernel='rbf')\n",
    "C=[0.1,1,10,100]\n",
    "gamma=[0.01, 0.1, 1]\n",
    "\n",
    "svr.fit(x_train_df, y_train)\n",
    "tuned_parameters = [{'C': C, 'gamma':gamma}]\n",
    "n_folds = 3\n",
    "clf = GridSearchCV(svr, tuned_parameters, cv=n_folds)\n",
    "clf.fit(x_train_df, y_train)\n",
    "best_parameters = clf.best_estimator_.get_params()\n",
    "for para, val in list(best_parameters.items()):\n",
    "    print(para, val)"
   ]
  },
  {
   "cell_type": "code",
   "execution_count": 6,
   "metadata": {},
   "outputs": [],
   "source": [
    "#------------#"
   ]
  },
  {
   "cell_type": "code",
   "execution_count": null,
   "metadata": {},
   "outputs": [],
   "source": []
  }
 ],
 "metadata": {
  "kernelspec": {
   "display_name": "Python 3",
   "language": "python",
   "name": "python3"
  },
  "language_info": {
   "codemirror_mode": {
    "name": "ipython",
    "version": 3
   },
   "file_extension": ".py",
   "mimetype": "text/x-python",
   "name": "python",
   "nbconvert_exporter": "python",
   "pygments_lexer": "ipython3",
   "version": "3.8.5"
  }
 },
 "nbformat": 4,
 "nbformat_minor": 5
}
